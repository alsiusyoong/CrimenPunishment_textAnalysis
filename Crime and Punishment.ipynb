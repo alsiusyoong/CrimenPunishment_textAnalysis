{
 "cells": [
  {
   "cell_type": "code",
   "execution_count": 1,
   "id": "b0f7e7c3",
   "metadata": {},
   "outputs": [
    {
     "name": "stderr",
     "output_type": "stream",
     "text": [
      "[nltk_data] Downloading package gutenberg to\n",
      "[nltk_data]     C:\\Users\\Aloys\\AppData\\Roaming\\nltk_data...\n",
      "[nltk_data]   Package gutenberg is already up-to-date!\n",
      "[nltk_data] Downloading package punkt to\n",
      "[nltk_data]     C:\\Users\\Aloys\\AppData\\Roaming\\nltk_data...\n",
      "[nltk_data]   Package punkt is already up-to-date!\n",
      "[nltk_data] Downloading package stopwords to\n",
      "[nltk_data]     C:\\Users\\Aloys\\AppData\\Roaming\\nltk_data...\n",
      "[nltk_data]   Package stopwords is already up-to-date!\n",
      "[nltk_data] Downloading package averaged_perceptron_tagger to\n",
      "[nltk_data]     C:\\Users\\Aloys\\AppData\\Roaming\\nltk_data...\n",
      "[nltk_data]   Package averaged_perceptron_tagger is already up-to-\n",
      "[nltk_data]       date!\n",
      "[nltk_data] Downloading package wordnet to\n",
      "[nltk_data]     C:\\Users\\Aloys\\AppData\\Roaming\\nltk_data...\n",
      "[nltk_data]   Package wordnet is already up-to-date!\n",
      "[nltk_data] Downloading package vader_lexicon to\n",
      "[nltk_data]     C:\\Users\\Aloys\\AppData\\Roaming\\nltk_data...\n",
      "[nltk_data]   Package vader_lexicon is already up-to-date!\n"
     ]
    },
    {
     "data": {
      "text/plain": [
       "True"
      ]
     },
     "execution_count": 1,
     "metadata": {},
     "output_type": "execute_result"
    }
   ],
   "source": [
    "import nltk\n",
    "nltk.download('gutenberg')\n",
    "nltk.download('punkt')\n",
    "nltk.download('stopwords')\n",
    "nltk.download('averaged_perceptron_tagger')\n",
    "nltk.download('wordnet')\n",
    "nltk.download('vader_lexicon')"
   ]
  },
  {
   "cell_type": "markdown",
   "id": "1ae5aa36",
   "metadata": {},
   "source": [
    "# Loading Crime and Punishment"
   ]
  },
  {
   "cell_type": "code",
   "execution_count": 2,
   "id": "a6c599f0",
   "metadata": {},
   "outputs": [],
   "source": [
    "from urllib import request\n",
    "url = \"http://www.gutenberg.org/files/2554/2554-0.txt\"\n",
    "response = request.urlopen(url)\n",
    "raw = response.read().decode('utf8')"
   ]
  },
  {
   "cell_type": "code",
   "execution_count": 3,
   "id": "5612e62c",
   "metadata": {},
   "outputs": [],
   "source": [
    "CnP = raw[5350:]"
   ]
  },
  {
   "cell_type": "code",
   "execution_count": 4,
   "id": "113ceb64",
   "metadata": {},
   "outputs": [],
   "source": [
    "CnP_full = CnP[:-19167]"
   ]
  },
  {
   "cell_type": "code",
   "execution_count": 5,
   "id": "c32d8349",
   "metadata": {},
   "outputs": [],
   "source": [
    "tokens = nltk.word_tokenize(CnP_full)\n",
    "text = nltk.Text(tokens)"
   ]
  },
  {
   "cell_type": "code",
   "execution_count": 6,
   "id": "3647412a",
   "metadata": {},
   "outputs": [],
   "source": [
    "import pandas as pd"
   ]
  },
  {
   "cell_type": "markdown",
   "id": "e911c66c",
   "metadata": {},
   "source": [
    "# Part of Speech (POS)"
   ]
  },
  {
   "cell_type": "code",
   "execution_count": 7,
   "id": "c37023b4",
   "metadata": {},
   "outputs": [],
   "source": [
    "from nltk import pos_tag\n",
    "from nltk.stem import PorterStemmer\n",
    "import re\n",
    "from nltk.sentiment.vader import SentimentIntensityAnalyzer\n",
    "import numpy as np"
   ]
  },
  {
   "cell_type": "code",
   "execution_count": 8,
   "id": "a484b13e",
   "metadata": {},
   "outputs": [],
   "source": [
    "filtered_text = []\n",
    "stop_words = [\"BBBB\"]\n",
    "\n",
    "for w in text: \n",
    "    if w not in stop_words: \n",
    "        filtered_text.append(w)"
   ]
  },
  {
   "cell_type": "markdown",
   "id": "299a78d5",
   "metadata": {},
   "source": [
    "from nltk.corpus import stopwords\n",
    "stop_words=set(stopwords.words(\"english\"))\n",
    "\n",
    "filtered_text=[]\n",
    "for w in text:\n",
    "    if w not in stop_words:\n",
    "        filtered_text.append(w)\n",
    "\n",
    "print(\"Filterd Sentence:\",filtered_text)"
   ]
  },
  {
   "cell_type": "code",
   "execution_count": 9,
   "id": "58b61a4c",
   "metadata": {},
   "outputs": [],
   "source": [
    "NoPuncs = [re.sub(r'[^A-Za-z0-9]+', '', x) for x in filtered_text]"
   ]
  },
  {
   "cell_type": "code",
   "execution_count": 10,
   "id": "7741a03a",
   "metadata": {},
   "outputs": [],
   "source": [
    "dictionary = {'Words': NoPuncs}  \n",
    "df = pd.DataFrame(dictionary) "
   ]
  },
  {
   "cell_type": "code",
   "execution_count": 11,
   "id": "f1e99af1",
   "metadata": {},
   "outputs": [],
   "source": [
    "df['ChapterBreaks'] = [1 if x == 'CHAPTER' else 0 for x in df['Words']]\n",
    "df['POSTag'] = pos_tag(df[\"Words\"])\n",
    "df['POSTag'] = df['POSTag'].astype('str')\n",
    "df['POSTag_New'] = df['POSTag'].str.split(',').str[1]\n",
    "df['POSTag_New'] = df['POSTag_New'].str[2:-2]"
   ]
  },
  {
   "cell_type": "code",
   "execution_count": 12,
   "id": "e737523c",
   "metadata": {},
   "outputs": [],
   "source": [
    "df['Index'] = np.arange(df.shape[0])"
   ]
  },
  {
   "cell_type": "code",
   "execution_count": 13,
   "id": "199fd233",
   "metadata": {},
   "outputs": [],
   "source": [
    "df[\"ChapterBREAKS\"] = df[\"ChapterBreaks\"].cumsum()"
   ]
  },
  {
   "cell_type": "code",
   "execution_count": 14,
   "id": "107061dd",
   "metadata": {},
   "outputs": [
    {
     "data": {
      "text/html": [
       "<div>\n",
       "<style scoped>\n",
       "    .dataframe tbody tr th:only-of-type {\n",
       "        vertical-align: middle;\n",
       "    }\n",
       "\n",
       "    .dataframe tbody tr th {\n",
       "        vertical-align: top;\n",
       "    }\n",
       "\n",
       "    .dataframe thead th {\n",
       "        text-align: right;\n",
       "    }\n",
       "</style>\n",
       "<table border=\"1\" class=\"dataframe\">\n",
       "  <thead>\n",
       "    <tr style=\"text-align: right;\">\n",
       "      <th></th>\n",
       "      <th>Words</th>\n",
       "      <th>ChapterBreaks</th>\n",
       "      <th>POSTag</th>\n",
       "      <th>POSTag_New</th>\n",
       "      <th>Index</th>\n",
       "      <th>ChapterBREAKS</th>\n",
       "    </tr>\n",
       "  </thead>\n",
       "  <tbody>\n",
       "    <tr>\n",
       "      <th>0</th>\n",
       "      <td>CHAPTER</td>\n",
       "      <td>1</td>\n",
       "      <td>('CHAPTER', 'NN')</td>\n",
       "      <td>NN</td>\n",
       "      <td>0</td>\n",
       "      <td>1</td>\n",
       "    </tr>\n",
       "    <tr>\n",
       "      <th>1</th>\n",
       "      <td>I</td>\n",
       "      <td>0</td>\n",
       "      <td>('I', 'PRP')</td>\n",
       "      <td>PRP</td>\n",
       "      <td>1</td>\n",
       "      <td>1</td>\n",
       "    </tr>\n",
       "    <tr>\n",
       "      <th>2</th>\n",
       "      <td>On</td>\n",
       "      <td>0</td>\n",
       "      <td>('On', 'IN')</td>\n",
       "      <td>IN</td>\n",
       "      <td>2</td>\n",
       "      <td>1</td>\n",
       "    </tr>\n",
       "    <tr>\n",
       "      <th>3</th>\n",
       "      <td>an</td>\n",
       "      <td>0</td>\n",
       "      <td>('an', 'DT')</td>\n",
       "      <td>DT</td>\n",
       "      <td>3</td>\n",
       "      <td>1</td>\n",
       "    </tr>\n",
       "    <tr>\n",
       "      <th>4</th>\n",
       "      <td>exceptionally</td>\n",
       "      <td>0</td>\n",
       "      <td>('exceptionally', 'RB')</td>\n",
       "      <td>RB</td>\n",
       "      <td>4</td>\n",
       "      <td>1</td>\n",
       "    </tr>\n",
       "  </tbody>\n",
       "</table>\n",
       "</div>"
      ],
      "text/plain": [
       "           Words  ChapterBreaks                   POSTag POSTag_New  Index  \\\n",
       "0        CHAPTER              1        ('CHAPTER', 'NN')         NN      0   \n",
       "1              I              0             ('I', 'PRP')        PRP      1   \n",
       "2             On              0             ('On', 'IN')         IN      2   \n",
       "3             an              0             ('an', 'DT')         DT      3   \n",
       "4  exceptionally              0  ('exceptionally', 'RB')         RB      4   \n",
       "\n",
       "   ChapterBREAKS  \n",
       "0              1  \n",
       "1              1  \n",
       "2              1  \n",
       "3              1  \n",
       "4              1  "
      ]
     },
     "execution_count": 14,
     "metadata": {},
     "output_type": "execute_result"
    }
   ],
   "source": [
    "df.head()"
   ]
  },
  {
   "cell_type": "markdown",
   "id": "2d5f2c29",
   "metadata": {},
   "source": [
    "# Saving to a CSV file"
   ]
  },
  {
   "cell_type": "code",
   "execution_count": 15,
   "id": "b2bea295",
   "metadata": {},
   "outputs": [],
   "source": [
    "df.to_csv('CnP.csv')"
   ]
  }
 ],
 "metadata": {
  "kernelspec": {
   "display_name": "Python 3",
   "language": "python",
   "name": "python3"
  },
  "language_info": {
   "codemirror_mode": {
    "name": "ipython",
    "version": 3
   },
   "file_extension": ".py",
   "mimetype": "text/x-python",
   "name": "python",
   "nbconvert_exporter": "python",
   "pygments_lexer": "ipython3",
   "version": "3.8.8"
  }
 },
 "nbformat": 4,
 "nbformat_minor": 5
}
